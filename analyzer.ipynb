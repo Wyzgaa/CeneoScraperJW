{
 "cells": [
  {
   "cell_type": "markdown",
   "metadata": {},
   "source": [
    "# Ceneo Analyzer"
   ]
  },
  {
   "cell_type": "markdown",
   "metadata": {},
   "source": [
    "## Biblioteki"
   ]
  },
  {
   "cell_type": "code",
   "execution_count": 10,
   "metadata": {},
   "outputs": [],
   "source": [
    "import os\n",
    "import pandas as pd\n",
    "import numpy as np\n",
    "import matplotlib.pyplot as plt"
   ]
  },
  {
   "cell_type": "markdown",
   "metadata": {},
   "source": [
    "## Lista kodów wszystkich produktów, o których zostały pobrane dane"
   ]
  },
  {
   "cell_type": "code",
   "execution_count": 11,
   "metadata": {},
   "outputs": [
    {
     "name": "stdout",
     "output_type": "stream",
     "text": [
      "82249489\n",
      "94103927\n"
     ]
    }
   ],
   "source": [
    "print(*[fname.split('.')[0] for fname in os.listdir('opinions')], sep='\\n')"
   ]
  },
  {
   "cell_type": "markdown",
   "metadata": {},
   "source": [
    "## Kod produktu, dla którego ma zosstać wykonana analiza opinni"
   ]
  },
  {
   "cell_type": "code",
   "execution_count": 12,
   "metadata": {},
   "outputs": [],
   "source": [
    "product_id = input('Podaj kod prodktu w serwisie Ceneo.pl: ')\n",
    "#94103927"
   ]
  },
  {
   "cell_type": "markdown",
   "metadata": {},
   "source": [
    "## Wczytanie do obiektu pandas.DataFrame opinii o wskazanym produkcie"
   ]
  },
  {
   "cell_type": "code",
   "execution_count": 13,
   "metadata": {},
   "outputs": [],
   "source": [
    "opinions = pd.read_json(f\"opinions/{product_id}.json\")"
   ]
  },
  {
   "cell_type": "code",
   "execution_count": 14,
   "metadata": {},
   "outputs": [
    {
     "data": {
      "text/html": [
       "<div>\n",
       "<style scoped>\n",
       "    .dataframe tbody tr th:only-of-type {\n",
       "        vertical-align: middle;\n",
       "    }\n",
       "\n",
       "    .dataframe tbody tr th {\n",
       "        vertical-align: top;\n",
       "    }\n",
       "\n",
       "    .dataframe thead th {\n",
       "        text-align: right;\n",
       "    }\n",
       "</style>\n",
       "<table border=\"1\" class=\"dataframe\">\n",
       "  <thead>\n",
       "    <tr style=\"text-align: right;\">\n",
       "      <th></th>\n",
       "      <th>opinion_id</th>\n",
       "      <th>author</th>\n",
       "      <th>recommendation</th>\n",
       "      <th>rating</th>\n",
       "      <th>content</th>\n",
       "      <th>pros</th>\n",
       "      <th>cons</th>\n",
       "      <th>useuful</th>\n",
       "      <th>useless</th>\n",
       "      <th>publish_date</th>\n",
       "      <th>purchase_date</th>\n",
       "    </tr>\n",
       "  </thead>\n",
       "  <tbody>\n",
       "    <tr>\n",
       "      <th>0</th>\n",
       "      <td>18589914</td>\n",
       "      <td>m...a</td>\n",
       "      <td>Polecam</td>\n",
       "      <td>5/5</td>\n",
       "      <td>Bardzo dobra jakość, duża moc, produkt bardzo ...</td>\n",
       "      <td>[]</td>\n",
       "      <td>[]</td>\n",
       "      <td>0</td>\n",
       "      <td>0</td>\n",
       "      <td>2024-04-19 19:56:31</td>\n",
       "      <td>2023-12-01 06:42:19</td>\n",
       "    </tr>\n",
       "    <tr>\n",
       "      <th>1</th>\n",
       "      <td>10830680</td>\n",
       "      <td>Karol</td>\n",
       "      <td>Polecam</td>\n",
       "      <td>5/5</td>\n",
       "      <td>świetna sprawa. nie rozkładam sie z mikserem p...</td>\n",
       "      <td>[]</td>\n",
       "      <td>[]</td>\n",
       "      <td>1</td>\n",
       "      <td>2</td>\n",
       "      <td>2019-07-25 07:49:46</td>\n",
       "      <td>2019-07-21 19:20:09</td>\n",
       "    </tr>\n",
       "    <tr>\n",
       "      <th>2</th>\n",
       "      <td>11785840</td>\n",
       "      <td>Użytkownik Ceneo</td>\n",
       "      <td>Polecam</td>\n",
       "      <td>4,5/5</td>\n",
       "      <td>Bardzo dobry</td>\n",
       "      <td>[]</td>\n",
       "      <td>[]</td>\n",
       "      <td>1</td>\n",
       "      <td>1</td>\n",
       "      <td>2020-02-21 19:13:03</td>\n",
       "      <td>2020-02-15 21:06:22</td>\n",
       "    </tr>\n",
       "    <tr>\n",
       "      <th>3</th>\n",
       "      <td>14617970</td>\n",
       "      <td>a...z</td>\n",
       "      <td>Polecam</td>\n",
       "      <td>5/5</td>\n",
       "      <td>Wszystko ok</td>\n",
       "      <td>[]</td>\n",
       "      <td>[]</td>\n",
       "      <td>0</td>\n",
       "      <td>0</td>\n",
       "      <td>2021-06-18 11:19:19</td>\n",
       "      <td>2021-06-12 20:24:21</td>\n",
       "    </tr>\n",
       "    <tr>\n",
       "      <th>4</th>\n",
       "      <td>18601107</td>\n",
       "      <td>a...9</td>\n",
       "      <td>Polecam</td>\n",
       "      <td>5/5</td>\n",
       "      <td>Solidny</td>\n",
       "      <td>[duża moc]</td>\n",
       "      <td>[]</td>\n",
       "      <td>0</td>\n",
       "      <td>0</td>\n",
       "      <td>2024-04-24 13:35:53</td>\n",
       "      <td>2024-04-12 23:28:32</td>\n",
       "    </tr>\n",
       "    <tr>\n",
       "      <th>5</th>\n",
       "      <td>13813807</td>\n",
       "      <td>a...3</td>\n",
       "      <td>Polecam</td>\n",
       "      <td>5/5</td>\n",
       "      <td>Jeszcze nie używałam ale napewno będę zadowolo...</td>\n",
       "      <td>[]</td>\n",
       "      <td>[]</td>\n",
       "      <td>0</td>\n",
       "      <td>12</td>\n",
       "      <td>2021-01-21 12:24:11</td>\n",
       "      <td>2020-12-28 14:20:41</td>\n",
       "    </tr>\n",
       "    <tr>\n",
       "      <th>6</th>\n",
       "      <td>14753019</td>\n",
       "      <td>Mustrum</td>\n",
       "      <td>Nie polecam</td>\n",
       "      <td>0,5/5</td>\n",
       "      <td>Mikser zepusł się po kilku użyciach mieląć pom...</td>\n",
       "      <td>[duża moc]</td>\n",
       "      <td>[nietrwały, plastikowy, przestał działać]</td>\n",
       "      <td>2</td>\n",
       "      <td>4</td>\n",
       "      <td>2021-07-22 12:49:29</td>\n",
       "      <td>2020-09-30 13:35:33</td>\n",
       "    </tr>\n",
       "    <tr>\n",
       "      <th>7</th>\n",
       "      <td>17977692</td>\n",
       "      <td>t0mc</td>\n",
       "      <td>Nie polecam</td>\n",
       "      <td>0,5/5</td>\n",
       "      <td>Jakość tragiczna. Po kilkukrotnym użyciu wyrob...</td>\n",
       "      <td>[]</td>\n",
       "      <td>[nietrwały, plastikowy]</td>\n",
       "      <td>1</td>\n",
       "      <td>1</td>\n",
       "      <td>2023-10-07 11:25:20</td>\n",
       "      <td>None</td>\n",
       "    </tr>\n",
       "    <tr>\n",
       "      <th>8</th>\n",
       "      <td>16190909</td>\n",
       "      <td>Asia</td>\n",
       "      <td>Nie polecam</td>\n",
       "      <td>1/5</td>\n",
       "      <td>Duże rozczarowanie - po dwóch latach, tuż po u...</td>\n",
       "      <td>[]</td>\n",
       "      <td>[nietrwały, przestał działać]</td>\n",
       "      <td>1</td>\n",
       "      <td>2</td>\n",
       "      <td>2022-06-09 13:25:52</td>\n",
       "      <td>None</td>\n",
       "    </tr>\n",
       "    <tr>\n",
       "      <th>9</th>\n",
       "      <td>14022049</td>\n",
       "      <td>Użytkownik Ceneo</td>\n",
       "      <td>Nie polecam</td>\n",
       "      <td>0,5/5</td>\n",
       "      <td>Tandeta niemiecka popsuła się w nie cały rok,w...</td>\n",
       "      <td>[]</td>\n",
       "      <td>[]</td>\n",
       "      <td>3</td>\n",
       "      <td>2</td>\n",
       "      <td>2021-02-25 21:50:35</td>\n",
       "      <td>None</td>\n",
       "    </tr>\n",
       "    <tr>\n",
       "      <th>10</th>\n",
       "      <td>11397029</td>\n",
       "      <td>Użytkownik Ceneo</td>\n",
       "      <td>None</td>\n",
       "      <td>4,5/5</td>\n",
       "      <td>4,5/5</td>\n",
       "      <td>[]</td>\n",
       "      <td>[]</td>\n",
       "      <td>1</td>\n",
       "      <td>0</td>\n",
       "      <td>2019-12-09 21:36:50</td>\n",
       "      <td>None</td>\n",
       "    </tr>\n",
       "  </tbody>\n",
       "</table>\n",
       "</div>"
      ],
      "text/plain": [
       "    opinion_id            author recommendation rating  \\\n",
       "0     18589914             m...a        Polecam    5/5   \n",
       "1     10830680             Karol        Polecam    5/5   \n",
       "2     11785840  Użytkownik Ceneo        Polecam  4,5/5   \n",
       "3     14617970             a...z        Polecam    5/5   \n",
       "4     18601107             a...9        Polecam    5/5   \n",
       "5     13813807             a...3        Polecam    5/5   \n",
       "6     14753019           Mustrum    Nie polecam  0,5/5   \n",
       "7     17977692              t0mc    Nie polecam  0,5/5   \n",
       "8     16190909              Asia    Nie polecam    1/5   \n",
       "9     14022049  Użytkownik Ceneo    Nie polecam  0,5/5   \n",
       "10    11397029  Użytkownik Ceneo           None  4,5/5   \n",
       "\n",
       "                                              content        pros  \\\n",
       "0   Bardzo dobra jakość, duża moc, produkt bardzo ...          []   \n",
       "1   świetna sprawa. nie rozkładam sie z mikserem p...          []   \n",
       "2                                        Bardzo dobry          []   \n",
       "3                                         Wszystko ok          []   \n",
       "4                                             Solidny  [duża moc]   \n",
       "5   Jeszcze nie używałam ale napewno będę zadowolo...          []   \n",
       "6   Mikser zepusł się po kilku użyciach mieląć pom...  [duża moc]   \n",
       "7   Jakość tragiczna. Po kilkukrotnym użyciu wyrob...          []   \n",
       "8   Duże rozczarowanie - po dwóch latach, tuż po u...          []   \n",
       "9   Tandeta niemiecka popsuła się w nie cały rok,w...          []   \n",
       "10                                              4,5/5          []   \n",
       "\n",
       "                                         cons  useuful  useless  \\\n",
       "0                                          []        0        0   \n",
       "1                                          []        1        2   \n",
       "2                                          []        1        1   \n",
       "3                                          []        0        0   \n",
       "4                                          []        0        0   \n",
       "5                                          []        0       12   \n",
       "6   [nietrwały, plastikowy, przestał działać]        2        4   \n",
       "7                     [nietrwały, plastikowy]        1        1   \n",
       "8               [nietrwały, przestał działać]        1        2   \n",
       "9                                          []        3        2   \n",
       "10                                         []        1        0   \n",
       "\n",
       "           publish_date        purchase_date  \n",
       "0   2024-04-19 19:56:31  2023-12-01 06:42:19  \n",
       "1   2019-07-25 07:49:46  2019-07-21 19:20:09  \n",
       "2   2020-02-21 19:13:03  2020-02-15 21:06:22  \n",
       "3   2021-06-18 11:19:19  2021-06-12 20:24:21  \n",
       "4   2024-04-24 13:35:53  2024-04-12 23:28:32  \n",
       "5   2021-01-21 12:24:11  2020-12-28 14:20:41  \n",
       "6   2021-07-22 12:49:29  2020-09-30 13:35:33  \n",
       "7   2023-10-07 11:25:20                 None  \n",
       "8   2022-06-09 13:25:52                 None  \n",
       "9   2021-02-25 21:50:35                 None  \n",
       "10  2019-12-09 21:36:50                 None  "
      ]
     },
     "execution_count": 14,
     "metadata": {},
     "output_type": "execute_result"
    }
   ],
   "source": [
    "opinions"
   ]
  },
  {
   "cell_type": "markdown",
   "metadata": {},
   "source": [
    "## Przekształcanie danych"
   ]
  },
  {
   "cell_type": "code",
   "execution_count": 15,
   "metadata": {},
   "outputs": [],
   "source": [
    "opinions.rating = opinions.rating.apply(lambda rate: rate.split('/')[0].replace(',', '.')).astype(float)"
   ]
  },
  {
   "cell_type": "markdown",
   "metadata": {},
   "source": [
    "## Podastwowe statystyki"
   ]
  },
  {
   "cell_type": "code",
   "execution_count": 16,
   "metadata": {},
   "outputs": [],
   "source": [
    "opinions_count = len(opinions)\n",
    "pros_count = opinions.pros.astype(bool).sum()\n",
    "cons_count = opinions.cons.astype(bool).sum()\n",
    "avg_rating = opinions.rating.mean()\n",
    "# print(avg_rating)"
   ]
  },
  {
   "cell_type": "markdown",
   "metadata": {},
   "source": [
    "## Histogram częstości poszczególnych ocen w opiniach o produkcie"
   ]
  },
  {
   "cell_type": "code",
   "execution_count": 17,
   "metadata": {},
   "outputs": [
    {
     "data": {
      "text/plain": [
       "[Text(0, 0, ''),\n",
       " Text(0, 0, '3'),\n",
       " Text(0, 0, '1'),\n",
       " Text(0, 0, ''),\n",
       " Text(0, 0, ''),\n",
       " Text(0, 0, ''),\n",
       " Text(0, 0, ''),\n",
       " Text(0, 0, ''),\n",
       " Text(0, 0, ''),\n",
       " Text(0, 0, '2'),\n",
       " Text(0, 0, '5')]"
      ]
     },
     "execution_count": 17,
     "metadata": {},
     "output_type": "execute_result"
    },
    {
     "data": {
      "image/png": "[encoded data removed]",
      "text/plain": [
       "<Figure size 640x480 with 1 Axes>"
      ]
     },
     "metadata": {},
     "output_type": "display_data"
    }
   ],
   "source": [
    "rating_distribution = opinions.rating.value_counts().reindex(np.arange(0,5.2,0.5), fill_value = 0)\n",
    "# print(rating_distribution)\n",
    "fig, ax = plt.subplots()\n",
    "rating_distribution.plot.bar()\n",
    "plt.xticks(rotation = 0)\n",
    "plt.xlabel('Liczba gwiazdek')\n",
    "plt.ylabel('Liczba opinii')\n",
    "plt.title('Histogram częstości ocen w opiniach')\n",
    "ax.bar_label(ax.containers[0], label_type='edge', fmt=lambda x: int(x) if x > 0 else '')"
   ]
  },
  {
   "cell_type": "markdown",
   "metadata": {},
   "source": [
    "## Udział poszczególnych rekomendacji w opiniach"
   ]
  },
  {
   "cell_type": "code",
   "execution_count": 18,
   "metadata": {},
   "outputs": [
    {
     "data": {
      "text/plain": [
       "Text(0.5, 1.0, 'Udział rekomendacji w opiniach')"
      ]
     },
     "execution_count": 18,
     "metadata": {},
     "output_type": "execute_result"
    },
    {
     "data": {
      "image/png": "[encoded data removed]",
      "text/plain": [
       "<Figure size 640x480 with 1 Axes>"
      ]
     },
     "metadata": {},
     "output_type": "display_data"
    }
   ],
   "source": [
    "recommendation_distribution = opinions.recommendation.value_counts(dropna=False).reindex(['Polecam', 'Nie polecam', None])\n",
    "recommendation_distribution.plot.pie(\n",
    "    label = '',\n",
    "    colors = ['seagreen', 'palevioletred', 'thistle'],\n",
    "    labels = ['Polecam', 'Nie polecam', 'Nie mam zdania']\n",
    ")\n",
    "plt.title('Udział rekomendacji w opiniach')"
   ]
  }
 ],
 "metadata": {
  "kernelspec": {
   "display_name": ".venv",
   "language": "python",
   "name": "python3"
  },
  "language_info": {
   "codemirror_mode": {
    "name": "ipython",
    "version": 3
   },
   "file_extension": ".py",
   "mimetype": "text/x-python",
   "name": "python",
   "nbconvert_exporter": "python",
   "pygments_lexer": "ipython3",
   "version": "3.12.0"
  }
 },
 "nbformat": 4,
 "nbformat_minor": 2
}
